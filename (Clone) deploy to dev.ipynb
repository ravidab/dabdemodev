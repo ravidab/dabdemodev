{
 "cells": [
  {
   "cell_type": "code",
   "execution_count": 0,
   "metadata": {
    "application/vnd.databricks.v1+cell": {
     "cellMetadata": {
      "byteLimit": 2048000,
      "rowLimit": 10000
     },
     "inputWidgets": {},
     "nuid": "886a9e32-836b-4644-ae0c-1ccffcd72d9b",
     "showTitle": false,
     "tableResultSettingsMap": {},
     "title": ""
    }
   },
   "outputs": [],
   "source": [
    "print ('hello from Ravi Gupta')"
   ]
  },
  {
   "cell_type": "code",
   "execution_count": 0,
   "metadata": {
    "application/vnd.databricks.v1+cell": {
     "cellMetadata": {
      "byteLimit": 2048000,
      "rowLimit": 10000
     },
     "inputWidgets": {},
     "nuid": "2314c645-3777-4f9f-a6bf-b28bb87cf43d",
     "showTitle": false,
     "tableResultSettingsMap": {},
     "title": ""
    }
   },
   "outputs": [],
   "source": [
    "print('this is a new line')"
   ]
  },
  {
   "cell_type": "markdown",
   "metadata": {},
   "source": [
    "creating a table and do some tranfoamtion and insert back to the same table"
   ]
  },
  {
   "cell_type": "markdown",
   "metadata": {},
   "source": [
    "from pyspark.sql import SparkSession\n",
    "from pyspark.sql.functions import lit\n",
    "\n",
    "# Initialize SparkSession (if not already)\n",
    "spark = SparkSession.builder.appName(\"InsertIntoSameTable\").getOrCreate()\n",
    "\n",
    "# 1. Read table A into DataFrame\n",
    "df = spark.table(\"table_a\")\n",
    "\n",
    "# 2. Perform transformations\n",
    "# Example: Adding a new column 'new_col' with value 'updated'\n",
    "transformed_df = df.withColumn(\"new_col\", lit(\"updated\"))\n",
    "\n",
    "# 3. Insert transformed data back into the same table\n",
    "# This will append the data (not overwrite)\n",
    "transformed_df.write.mode(\"append\").insertInto(\"table_a\")"
   ]
  }
 ],
 "metadata": {
  "application/vnd.databricks.v1+notebook": {
   "computePreferences": null,
   "dashboards": [],
   "environmentMetadata": {
    "base_environment": "",
    "environment_version": "2"
   },
   "inputWidgetPreferences": null,
   "language": "python",
   "notebookMetadata": {
    "pythonIndentUnit": 4
   },
   "notebookName": "(Clone) deploy to dev",
   "widgets": {}
  },
  "language_info": {
   "name": "python"
  }
 },
 "nbformat": 4,
 "nbformat_minor": 0
}
